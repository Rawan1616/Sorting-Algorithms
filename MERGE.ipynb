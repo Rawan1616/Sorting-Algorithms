{
 "cells": [
  {
   "cell_type": "code",
   "execution_count": 10,
   "metadata": {},
   "outputs": [],
   "source": [
    "def merge(l, r):\n",
    "    result = [0] * (len(l) + len(r))\n",
    "    i, j, k = 0, 0, 0\n",
    "    \n",
    "    while i < len(l) and j < len(r):\n",
    "        if l[i] <= r[j]:\n",
    "            result[k] = l[i]\n",
    "            i += 1\n",
    "        else:\n",
    "            result[k] = r[j]\n",
    "            j += 1\n",
    "        k += 1\n",
    "    \n",
    "    while i < len(l):\n",
    "        result[k] = l[i]\n",
    "        i += 1\n",
    "        k += 1\n",
    "    \n",
    "    while j < len(r):\n",
    "        result[k] = r[j]\n",
    "        j += 1\n",
    "        k += 1\n",
    "    \n",
    "    return result\n",
    "\n"
   ]
  },
  {
   "cell_type": "code",
   "execution_count": 11,
   "metadata": {},
   "outputs": [],
   "source": [
    "def mergeSort (arr ):\n",
    "#    stop condition \n",
    "  if len(arr) <= 1 :\n",
    "      return arr \n",
    "  else :\n",
    "      mid = len(arr)//2\n",
    "      left= mergeSort(arr[:mid])\n",
    "      right = mergeSort (arr[mid:])\n",
    "      \n",
    "  return merge (left , right)"
   ]
  },
  {
   "cell_type": "code",
   "execution_count": 12,
   "metadata": {},
   "outputs": [
    {
     "name": "stdout",
     "output_type": "stream",
     "text": [
      "Sorted array: [3, 9, 10, 27, 38, 43, 82]\n"
     ]
    }
   ],
   "source": [
    "arr = [38, 27, 43, 3, 9, 82, 10]\n",
    "sorted_arr = mergeSort(arr)\n",
    "print(\"Sorted array:\", sorted_arr)"
   ]
  }
 ],
 "metadata": {
  "kernelspec": {
   "display_name": "Python 3",
   "language": "python",
   "name": "python3"
  },
  "language_info": {
   "codemirror_mode": {
    "name": "ipython",
    "version": 3
   },
   "file_extension": ".py",
   "mimetype": "text/x-python",
   "name": "python",
   "nbconvert_exporter": "python",
   "pygments_lexer": "ipython3",
   "version": "3.13.2"
  }
 },
 "nbformat": 4,
 "nbformat_minor": 2
}
