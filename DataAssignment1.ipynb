{
 "cells": [
  {
   "cell_type": "code",
   "execution_count": 9,
   "metadata": {},
   "outputs": [],
   "source": [
    "import time\n",
    "import random\n",
    "import matplotlib.pyplot as plt\n",
    "import seaborn"
   ]
  },
  {
   "cell_type": "code",
   "execution_count": null,
   "metadata": {},
   "outputs": [],
   "source": [
    "def bubbleSort(arr):\n",
    "        n = len(arr)\n",
    "        flag = False \n",
    "\n",
    "        for i in range(n):\n",
    "            print(i)\n",
    "            flag = False\n",
    "            for j in range(0, n-1):\n",
    "                if arr[j] > arr[j+1] :\n",
    "                    flag=True\n",
    "                    arr[j] , arr[j+1] = arr[j+1] , arr[j]\n",
    "            if flag==False :\n",
    "                 print(arr)\n",
    "                 return arr       \n",
    "        print(arr)\n",
    "        return arr\n",
    "    "
   ]
  },
  {
   "cell_type": "code",
   "execution_count": 11,
   "metadata": {},
   "outputs": [],
   "source": [
    "def selectionSort(arr):\n",
    "    n = len(arr)\n",
    "    for i in range(n):\n",
    "        min_idx = i\n",
    "        for j in range(i + 1, n):\n",
    "            if arr[j] < arr[min_idx]:\n",
    "                min_idx = j\n",
    "        arr[i], arr[min_idx] = arr[min_idx], arr[i]  \n",
    "    return arr\n"
   ]
  },
  {
   "cell_type": "code",
   "execution_count": 12,
   "metadata": {},
   "outputs": [],
   "source": [
    "def insertionSort(arr):\n",
    "    n = len(arr)\n",
    "    for i in range(1, n):\n",
    "        key = arr[i]\n",
    "        j = i - 1\n",
    "        while j >= 0 and arr[j] > key:\n",
    "            arr[j + 1] = arr[j]\n",
    "            j -= 1\n",
    "        arr[j + 1] = key\n",
    "    return arr\n"
   ]
  },
  {
   "cell_type": "code",
   "execution_count": 17,
   "metadata": {},
   "outputs": [],
   "source": [
    "# generate random arrays \n",
    "\n",
    "def generate_random_array(size):\n",
    "    # throw any var \n",
    "        # return [random.randint(0, 10000) for _ in range(size)]\n",
    "        return [2,1,3,4,5]\n",
    "        "
   ]
  },
  {
   "cell_type": "code",
   "execution_count": 14,
   "metadata": {},
   "outputs": [],
   "source": [
    "def measureTime(sortFunction, arr):\n",
    "    start_time = time.time()  \n",
    "    sortFunction(arr.copy())\n",
    "    end_time = time.time()\n",
    "    return (end_time - start_time) * 1000  \n",
    "    \n",
    "    "
   ]
  },
  {
   "cell_type": "code",
   "execution_count": 19,
   "metadata": {},
   "outputs": [
    {
     "name": "stdout",
     "output_type": "stream",
     "text": [
      "0\n",
      "1\n",
      "[1, 2, 3, 4, 5]\n",
      "Size: 10\n",
      "Bubble Sort Time: 0.15 ms\n",
      "Selection Sort Time: 0.00 ms\n",
      "Insertion Sort Time: 0.00 ms\n",
      "------------------------------\n"
     ]
    }
   ],
   "source": [
    "bubbleSort_time = []\n",
    "selectionSort_time = []\n",
    "insertionSort_time = []\n",
    "\n",
    "sizes = [10]\n",
    "\n",
    "for size in sizes:\n",
    "    arr = generate_random_array(size)\n",
    "    \n",
    "    bubbleSort_result = measureTime(bubbleSort, arr)\n",
    "    selectionSort_result = measureTime(selectionSort, arr)\n",
    "    insertionSort_result = measureTime(insertionSort, arr)\n",
    "    \n",
    "    bubbleSort_time.append(bubbleSort_result)\n",
    "    selectionSort_time.append(selectionSort_result)\n",
    "    insertionSort_time.append(insertionSort_result)\n",
    "    \n",
    "    # /////////////////////////////////print//////////////////////////////////////////////\n",
    "    print(f\"Size: {size}\")\n",
    "    print(f\"Bubble Sort Time: {bubbleSort_time[-1]:.2f} ms\")\n",
    "    print(f\"Selection Sort Time: {selectionSort_time[-1]:.2f} ms\")\n",
    "    print(f\"Insertion Sort Time: {insertionSort_time[-1]:.2f} ms\")\n",
    "    print(\"-\" * 30)"
   ]
  },
  {
   "cell_type": "code",
   "execution_count": 16,
   "metadata": {},
   "outputs": [
    {
     "data": {
      "image/png": "[encoded data removed]",
      "text/plain": [
       "<Figure size 640x480 with 1 Axes>"
      ]
     },
     "metadata": {},
     "output_type": "display_data"
    }
   ],
   "source": [
    "# ///////////////////////////visualization ///////////////////////////////\n",
    "\n",
    "plt.Figure(figsize=(10, 5))\n",
    "# plt.style.use('fivethirtyeight')\n",
    "plt.plot(sizes, bubbleSort_time, marker='o', label='Bubble Sort')\n",
    "plt.plot(sizes, selectionSort_time, marker='s', label='Selection Sort')\n",
    "plt.plot(sizes, insertionSort_time, marker='^', label='Insertion Sort')\n",
    "\n",
    "\n",
    "plt.xlabel(\"Array Size\")\n",
    "plt.ylabel(\"Time (ms)\")\n",
    "plt.title(\"Sorting Algorithms Complexity\")\n",
    "plt.legend()\n",
    "plt.grid()\n",
    "plt.show()"
   ]
  }
 ],
 "metadata": {
  "kernelspec": {
   "display_name": "Python 3",
   "language": "python",
   "name": "python3"
  },
  "language_info": {
   "codemirror_mode": {
    "name": "ipython",
    "version": 3
   },
   "file_extension": ".py",
   "mimetype": "text/x-python",
   "name": "python",
   "nbconvert_exporter": "python",
   "pygments_lexer": "ipython3",
   "version": "3.13.2"
  }
 },
 "nbformat": 4,
 "nbformat_minor": 2
}
